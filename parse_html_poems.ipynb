{
 "cells": [
  {
   "cell_type": "code",
   "execution_count": 5,
   "metadata": {},
   "outputs": [],
   "source": [
    "from bs4 import BeautifulSoup as bs\n",
    "from utils.list_all_files import *\n",
    "import hashlib"
   ]
  },
  {
   "cell_type": "code",
   "execution_count": 6,
   "metadata": {},
   "outputs": [],
   "source": [
    "!mkdir -p output"
   ]
  },
  {
   "cell_type": "code",
   "execution_count": 8,
   "metadata": {},
   "outputs": [
    {
     "name": "stdout",
     "output_type": "stream",
     "text": [
      "Parsing error: www.poetryfoundation.org/poems/52827/the-botanic-garden-the-economy-of-vegetation-canto-i\n",
      "Parsing error: www.poetryfoundation.org/poems/52338/a-friendly-address\n"
     ]
    }
   ],
   "source": [
    "def get_hash(text):\n",
    "    return hashlib.md5(text.encode('utf8')).hexdigest()\n",
    "\n",
    "conditions = ['.o-article .c-feature-hd', '.c-txt_attribution a', '.o-poem'] \n",
    "for fn in list_files('www.poetryfoundation.org/'):\n",
    "    with open(fn) as f:\n",
    "        html = f.read()\n",
    "        soup = bs(html, 'html.parser')\n",
    "        results = [soup.select(e) for e in conditions]\n",
    "        if all(results):\n",
    "            title = results[0][0].text.strip().split('\\n')[0]\n",
    "            author = results[1][0].text.strip().split('\\n')[0]\n",
    "            poem = results[2][0].get_text('\\n').strip().split('\\n')\n",
    "            poem = [e.strip() for e in poem if len(e.strip())]\n",
    "            poem = '\\n'.join(poem)\n",
    "            output_fn = 'output/' + get_hash(title + author) + '.txt'\n",
    "            \n",
    "            if len(poem) < 100:\n",
    "                print(f'Parsing error: {fn}')\n",
    "                continue\n",
    "                \n",
    "            with open(output_fn, 'w') as ff:\n",
    "                ff.write('\\n'.join([fn, title, author, poem])) "
   ]
  },
  {
   "cell_type": "code",
   "execution_count": null,
   "metadata": {},
   "outputs": [],
   "source": []
  }
 ],
 "metadata": {
  "kernelspec": {
   "display_name": "Python 3",
   "language": "python",
   "name": "python3"
  },
  "language_info": {
   "codemirror_mode": {
    "name": "ipython",
    "version": 3
   },
   "file_extension": ".py",
   "mimetype": "text/x-python",
   "name": "python",
   "nbconvert_exporter": "python",
   "pygments_lexer": "ipython3",
   "version": "3.7.7"
  }
 },
 "nbformat": 4,
 "nbformat_minor": 4
}
